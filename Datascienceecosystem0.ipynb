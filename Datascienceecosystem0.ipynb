{
 "cells": [
  {
   "cell_type": "markdown",
   "id": "4a64c6be-8225-4433-ae35-35d827a69532",
   "metadata": {},
   "source": [
    "# Data Science Tools and Ecosystem"
   ]
  },
  {
   "cell_type": "markdown",
   "id": "d9fee63f-6852-4a98-a60d-721633de3183",
   "metadata": {},
   "source": [
    "In this notebook,Data science tools and Ecosystem are summarsied."
   ]
  },
  {
   "cell_type": "markdown",
   "id": "05deacb7-1f78-48c4-83e4-c3ea1c650f24",
   "metadata": {},
   "source": [
    "some of the popular languages that Data Scientists used are:\n",
    "1. python\n",
    "2. R\n",
    "3. SQL\n",
    "4. C++\n",
    "5. Java etc."
   ]
  },
  {
   "cell_type": "markdown",
   "id": "f053c02e-77b7-4065-ac26-16575dcd49b1",
   "metadata": {},
   "source": [
    "Some Of the commonly used libraries used by Data scientists include:\n",
    "1. TensorFlow .\n",
    "2. NumPy .\n",
    "3. SciPy.\n",
    "4. Pandas.\n",
    "5. Matplotlib.\n",
    "6. Keras.\n",
    "7. Scikit.Learn .\n",
    "8. PyTorch. etc."
   ]
  },
  {
   "cell_type": "markdown",
   "id": "d639ac20-917b-4a4b-82b4-b811e9758303",
   "metadata": {},
   "source": [
    "| Data Science Tools| \r\n",
    "|:--------:|\r\n",
    "|SAS    |\r\n",
    "Apache Hadoop2    |\r",
    "TensorFlow 3     |"
   ]
  },
  {
   "cell_type": "markdown",
   "id": "d6dceb69-7fa4-49e9-afd7-a24fb56e4218",
   "metadata": {},
   "source": [
    "### Below are a few examples of evaluating expressions in Python "
   ]
  },
  {
   "cell_type": "code",
   "execution_count": 8,
   "id": "c5148a52-7c49-436e-a285-3ba3113d429a",
   "metadata": {},
   "outputs": [
    {
     "data": {
      "text/plain": [
       "39"
      ]
     },
     "execution_count": 8,
     "metadata": {},
     "output_type": "execute_result"
    }
   ],
   "source": [
    "#this is acommon arthicmetic example to multiply and then add integers\n",
    "(5*6)+9"
   ]
  },
  {
   "cell_type": "code",
   "execution_count": 10,
   "id": "39ed5c7a-4a16-4d7a-a0bb-f796ec142b06",
   "metadata": {},
   "outputs": [
    {
     "data": {
      "text/plain": [
       "5.0"
      ]
     },
     "execution_count": 10,
     "metadata": {},
     "output_type": "execute_result"
    }
   ],
   "source": [
    "#this will convert 200 minutes to hour by dividing by 60\n",
    "300/60"
   ]
  },
  {
   "cell_type": "markdown",
   "id": "c760a28e-9d0c-4479-89f9-a2607d9a0f45",
   "metadata": {},
   "source": [
    "__objectives__\n",
    "* List Popular languages for Data science\n",
    "* list popular libaries for aadta science\n",
    "* list of well Known Data science Tools\n",
    "* How to provide comments in the cell"
   ]
  },
  {
   "cell_type": "markdown",
   "id": "ed843816-9ecb-40fc-a1ee-de59bddf6332",
   "metadata": {},
   "source": [
    "## Author\n",
    "Ganeshraja R"
   ]
  },
  {
   "cell_type": "code",
   "execution_count": null,
   "id": "04468809-3f77-454f-9749-7551123ad039",
   "metadata": {},
   "outputs": [],
   "source": []
  }
 ],
 "metadata": {
  "kernelspec": {
   "display_name": "Python 3 (ipykernel)",
   "language": "python",
   "name": "python3"
  },
  "language_info": {
   "codemirror_mode": {
    "name": "ipython",
    "version": 3
   },
   "file_extension": ".py",
   "mimetype": "text/x-python",
   "name": "python",
   "nbconvert_exporter": "python",
   "pygments_lexer": "ipython3",
   "version": "3.12.2"
  }
 },
 "nbformat": 4,
 "nbformat_minor": 5
}
